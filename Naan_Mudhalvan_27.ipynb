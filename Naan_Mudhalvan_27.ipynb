{
  "nbformat": 4,
  "nbformat_minor": 0,
  "metadata": {
    "colab": {
      "provenance": [],
      "authorship_tag": "ABX9TyO/8V6444emkHhq4gD1FXmo",
      "include_colab_link": true
    },
    "kernelspec": {
      "name": "python3",
      "display_name": "Python 3"
    },
    "language_info": {
      "name": "python"
    }
  },
  "cells": [
    {
      "cell_type": "markdown",
      "metadata": {
        "id": "view-in-github",
        "colab_type": "text"
      },
      "source": [
        "<a href=\"https://colab.research.google.com/github/Saayaa4027/Naan_Mudhalvan---Heart-Disease-Prediction/blob/main/Naan_Mudhalvan_27.ipynb\" target=\"_parent\"><img src=\"https://colab.research.google.com/assets/colab-badge.svg\" alt=\"Open In Colab\"/></a>"
      ]
    },
    {
      "cell_type": "code",
      "execution_count": null,
      "metadata": {
        "id": "aAuvQq5s4CLi",
        "colab": {
          "base_uri": "https://localhost:8080/",
          "height": 141
        },
        "outputId": "de97831e-4b60-44ef-be4c-00efaeadb3f4"
      },
      "outputs": [
        {
          "output_type": "error",
          "ename": "NameError",
          "evalue": "name 'content' is not defined",
          "traceback": [
            "\u001b[0;31m---------------------------------------------------------------------------\u001b[0m",
            "\u001b[0;31mNameError\u001b[0m                                 Traceback (most recent call last)",
            "\u001b[0;32m<ipython-input-1-6472cccbe6fd>\u001b[0m in \u001b[0;36m<cell line: 1>\u001b[0;34m()\u001b[0m\n\u001b[0;32m----> 1\u001b[0;31m \u001b[0mcontent\u001b[0m\u001b[0;34m/\u001b[0m\u001b[0mdataset_heart\u001b[0m\u001b[0;34m.\u001b[0m\u001b[0mcsv\u001b[0m\u001b[0;34m(\u001b[0m\u001b[0;34m)\u001b[0m\u001b[0;34m\u001b[0m\u001b[0;34m\u001b[0m\u001b[0m\n\u001b[0m",
            "\u001b[0;31mNameError\u001b[0m: name 'content' is not defined"
          ]
        }
      ],
      "source": [
        "/content/dataset_heart.csv"
      ]
    },
    {
      "cell_type": "code",
      "source": [
        "import pandas as pd\n",
        "\n",
        "# Load the dataset into a DataFrame\n",
        "# Replace 'your_dataset.csv' with the actual path to your dataset file\n",
        "df = pd.read_csv('dataset_heart.csv')\n",
        "\n",
        "# Check for missing values\n",
        "missing_values = df.isnull().sum()\n",
        "\n",
        "# Display the number of missing values for each feature\n",
        "print(missing_values)"
      ],
      "metadata": {
        "colab": {
          "base_uri": "https://localhost:8080/"
        },
        "id": "0ES9E1mM4X-Q",
        "outputId": "8e8f5dda-18f4-40c0-cd6c-2234966dc83a"
      },
      "execution_count": null,
      "outputs": [
        {
          "output_type": "stream",
          "name": "stdout",
          "text": [
            "age                    0\n",
            "sex                    0\n",
            "chest pain type        0\n",
            "resting bp             0\n",
            "cholesterol            0\n",
            "fasting blood sugar    0\n",
            "resting ecg            0\n",
            "max heart rate         0\n",
            "exercise angina        0\n",
            "oldpeak                0\n",
            "ST slope               0\n",
            "heart disease          0\n",
            "dtype: int64\n"
          ]
        }
      ]
    },
    {
      "cell_type": "code",
      "source": [
        "# Perform one-hot encoding for categorical variables\n",
        "df_encoded = pd.get_dummies(df, columns=['fasting blood sugar', 'resting ecg', 'exercise angina'])\n",
        "\n",
        "# Confirm the encoding\n",
        "print(df_encoded.head())"
      ],
      "metadata": {
        "colab": {
          "base_uri": "https://localhost:8080/"
        },
        "id": "OMMWfiIL4fPX",
        "outputId": "8053d7c1-10d8-4bf5-b683-3603d31f0c92"
      },
      "execution_count": null,
      "outputs": [
        {
          "output_type": "stream",
          "name": "stdout",
          "text": [
            "   age  sex   chest pain type  resting bp  cholesterol  max heart rate  \\\n",
            "0   70     1                4         130          322             109   \n",
            "1   67     0                3         115          564             160   \n",
            "2   57     1                2         124          261             141   \n",
            "3   64     1                4         128          263             105   \n",
            "4   74     0                2         120          269             121   \n",
            "\n",
            "   oldpeak  ST slope  heart disease  fasting blood sugar_0  \\\n",
            "0      2.4         2              2                   True   \n",
            "1      1.6         2              1                   True   \n",
            "2      0.3         1              2                   True   \n",
            "3      0.2         2              1                   True   \n",
            "4      0.2         1              1                   True   \n",
            "\n",
            "   fasting blood sugar_1  resting ecg_0  resting ecg_1  resting ecg_2  \\\n",
            "0                  False          False          False           True   \n",
            "1                  False          False          False           True   \n",
            "2                  False           True          False          False   \n",
            "3                  False           True          False          False   \n",
            "4                  False          False          False           True   \n",
            "\n",
            "   exercise angina_0  exercise angina_1  \n",
            "0               True              False  \n",
            "1               True              False  \n",
            "2               True              False  \n",
            "3              False               True  \n",
            "4              False               True  \n"
          ]
        }
      ]
    },
    {
      "cell_type": "code",
      "source": [
        "from sklearn.model_selection import train_test_split\n",
        "\n",
        "# Separate features (X) and target variable (y)\n",
        "X = df_encoded.drop(columns=['heart disease'])\n",
        "y = df_encoded['heart disease']\n",
        "\n",
        "# Split the dataset into training and testing sets (80% train, 20% test)\n",
        "X_train, X_test, y_train, y_test = train_test_split(X, y, test_size=0.2, random_state=42)\n",
        "\n",
        "# Confirm the shapes of the train and test sets\n",
        "print(\"Shape of X_train:\",X_train.shape)\n",
        "print(\"Shape of X_test:\",X_test.shape)\n",
        "print(\"Shape of y_train:\",y_train.shape)\n",
        "print(\"Shape of y_test:\",y_test.shape)"
      ],
      "metadata": {
        "colab": {
          "base_uri": "https://localhost:8080/"
        },
        "id": "fkeI-ch54ooI",
        "outputId": "8579b960-6ca8-49cb-c4ae-e4f29580f508"
      },
      "execution_count": null,
      "outputs": [
        {
          "output_type": "stream",
          "name": "stdout",
          "text": [
            "Shape of X_train: (216, 15)\n",
            "Shape of X_test: (54, 15)\n",
            "Shape of y_train: (216,)\n",
            "Shape of y_test: (54,)\n"
          ]
        }
      ]
    },
    {
      "cell_type": "code",
      "source": [
        "from sklearn.linear_model import LogisticRegression\n",
        "from sklearn.metrics import accuracy_score, classification_report\n",
        "\n",
        "# Initialize the logistic regression model\n",
        "logreg_model = LogisticRegression(random_state=42)\n",
        "\n",
        "# Train the model on the training data\n",
        "logreg_model.fit(X_train, y_train)\n",
        "\n",
        "# Predictions on the training set\n",
        "train_predictions = logreg_model.predict(X_train)\n",
        "\n",
        "# Predictions on the testing set\n",
        "test_predictions = logreg_model.predict(X_test)\n",
        "\n",
        "# Evaluate the model\n",
        "train_accuracy = accuracy_score(y_train, train_predictions)\n",
        "test_accuracy = accuracy_score(y_test, test_predictions)\n",
        "\n",
        "print(\"Training Accuracy:\", train_accuracy)\n",
        "print(\"Testing Accuracy:\", test_accuracy)\n",
        "\n",
        "# Classification report on testing data\n",
        "print(\"\\nClassification Report:\")\n",
        "print(classification_report(y_test, test_predictions))"
      ],
      "metadata": {
        "colab": {
          "base_uri": "https://localhost:8080/"
        },
        "id": "h_2Gln-Q41iq",
        "outputId": "15e47d81-60f6-4d0d-9c94-1c3cd879196c"
      },
      "execution_count": null,
      "outputs": [
        {
          "output_type": "stream",
          "name": "stdout",
          "text": [
            "Training Accuracy: 0.8009259259259259\n",
            "Testing Accuracy: 0.7407407407407407\n",
            "\n",
            "Classification Report:\n",
            "              precision    recall  f1-score   support\n",
            "\n",
            "           1       0.76      0.85      0.80        33\n",
            "           2       0.71      0.57      0.63        21\n",
            "\n",
            "    accuracy                           0.74        54\n",
            "   macro avg       0.73      0.71      0.72        54\n",
            "weighted avg       0.74      0.74      0.73        54\n",
            "\n"
          ]
        }
      ]
    },
    {
      "cell_type": "code",
      "source": [
        "def predict_heart_disease(age, sex, chest_pain_type, resting_bp_s, cholesterol, fasting_blood_sugar, resting_ecg, max_heart_rate, exercise_angina, oldpeak, st_slope):\n",
        "    # Create a dataframe with user input\n",
        "    features = pd.DataFrame({\n",
        "        'age': [age],\n",
        "        'sex': [sex],\n",
        "        'chest pain type': [chest_pain_type],\n",
        "        'resting bp s': [resting_bp_s],\n",
        "        'cholesterol': [cholesterol],\n",
        "        'fasting blood sugar': [fasting_blood_sugar],\n",
        "        'resting ecg': [resting_ecg],\n",
        "        'max heart rate': [max_heart_rate],\n",
        "        'exercise angina': [exercise_angina],\n",
        "        'oldpeak': [oldpeak],\n",
        "        'st slope': [st_slope]\n",
        "    })\n",
        "\n",
        "    # Check for columns that are expected by the model but not in the features dataframe\n",
        "    not_existing_cols = [c for c in X.columns.tolist() if c not in features.columns.tolist()]\n",
        "\n",
        "    # Add the missing columns to the features dataframe and fill with 0\n",
        "    for col in not_existing_cols:\n",
        "        features[col] = 0\n",
        "\n",
        "    # Ensure the columns are in the same order as in the original dataframe\n",
        "    features = features[X.columns.tolist()]\n",
        "\n",
        "    # Make prediction\n",
        "    prediction = logreg_model.predict(features)\n",
        "\n",
        "    # Interpret prediction\n",
        "    if prediction[0] == 1:\n",
        "        return \"Heart Disease\"\n",
        "    else:\n",
        "        return \"No Heart Disease\"\n",
        "\n",
        "# Make predictions based on user input\n",
        "age = float(input(\"Enter age: \"))\n",
        "sex = input(\"Enter sex (male/female): \")\n",
        "chest_pain_type = int(input(\"Enter chest pain type (1-4): \"))\n",
        "resting_bp_s = float(input(\"Enter resting blood pressure (mm Hg): \"))\n",
        "cholesterol = float(input(\"Enter cholesterol level (mg/dl): \"))\n",
        "fasting_blood_sugar = input(\"Fasting blood sugar > 120 mg/dl? (true/false): \")\n",
        "resting_ecg = int(input(\"Enter resting ECG result (0-2): \"))\n",
        "max_heart_rate = float(input(\"Enter maximum heart rate achieved: \"))\n",
        "exercise_angina = input(\"Exercise-induced angina? (true/false): \")\n",
        "oldpeak = float(input(\"Enter ST depression induced by exercise relative to rest: \"))\n",
        "st_slope = int(input(\"Enter slope of the peak exercise ST segment (1-3): \"))\n",
        "\n",
        "prediction = predict_heart_disease(age, sex, chest_pain_type, resting_bp_s, cholesterol, fasting_blood_sugar, resting_ecg, max_heart_rate, exercise_angina, oldpeak, st_slope)\n",
        "print(\"Prediction:\",prediction)"
      ],
      "metadata": {
        "colab": {
          "base_uri": "https://localhost:8080/"
        },
        "id": "xnxoaW9246dH",
        "outputId": "7ffb82f5-664f-46c4-fec6-b29a120d1949"
      },
      "execution_count": null,
      "outputs": [
        {
          "output_type": "stream",
          "name": "stdout",
          "text": [
            "Enter age: 65\n",
            "Enter sex (male/female): female\n",
            "Enter chest pain type (1-4): 3\n",
            "Enter resting blood pressure (mm Hg): 134\n",
            "Enter cholesterol level (mg/dl): 500\n",
            "Fasting blood sugar > 120 mg/dl? (true/false): true\n",
            "Enter resting ECG result (0-2): 2\n",
            "Enter maximum heart rate achieved: 140\n",
            "Exercise-induced angina? (true/false): true\n",
            "Enter ST depression induced by exercise relative to rest: 4\n",
            "Enter slope of the peak exercise ST segment (1-3): 3\n",
            "Prediction: No Heart Disease\n"
          ]
        }
      ]
    }
  ]
}